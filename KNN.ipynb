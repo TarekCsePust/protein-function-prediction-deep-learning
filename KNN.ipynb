{
 "cells": [
  {
   "cell_type": "code",
   "execution_count": 1,
   "metadata": {},
   "outputs": [
    {
     "name": "stderr",
     "output_type": "stream",
     "text": [
      "F:\\Ancondainstall\\lib\\site-packages\\h5py\\__init__.py:36: FutureWarning: Conversion of the second argument of issubdtype from `float` to `np.floating` is deprecated. In future, it will be treated as `np.float64 == np.dtype(float).type`.\n",
      "  from ._conv import register_converters as _register_converters\n",
      "Using TensorFlow backend.\n"
     ]
    }
   ],
   "source": [
    "import numpy as np\n",
    "from numpy import array\n",
    "from numpy import argmax\n",
    "from sklearn.preprocessing import LabelEncoder\n",
    "from keras.utils import to_categorical\n",
    "import tensorflow as tf\n",
    "from sklearn.preprocessing import OneHotEncoder\n",
    "from tensorflow import keras"
   ]
  },
  {
   "cell_type": "code",
   "execution_count": 2,
   "metadata": {},
   "outputs": [
    {
     "name": "stdout",
     "output_type": "stream",
     "text": [
      "48980\n",
      "48980\n",
      "MVSESHHEALAAPPATTVAAAPPSNVTEPASPGGGGGKEDAFSKLKEKFMNELNKIPLPPWALIAIAIVAVLLILTCCFCLCKKCLFKKKNKKKGKEKGGKNAINMKDVKDLGKTMKDQDDDAETGLTDGEEKEEPKEVEKLGKIQYSLDYDFQNNQLLVGIIQAAELPALDMGGTSDPYVKVFLLPDKKKKYETKVHRKTLNPVFNEQFTFKVPYSELGGKTLVMAVYDFDRFSKHDIIGEYKVAMNTVDFGHVTEEWRDLQSAEKEEQEKLGDICFSLRYVPTAGKLTVVILEAKNLKKMDVGGLSDPYVKIHLMQNGKRLKKKKTTIKKNTLNPYYNESFSFEVPFEQIQKVQIVVTVLDYDKIGKNDAIGKVFVGYNSTGAELRHWSDMLANPRRPIAQWHTLQPEEEVDAMLAVKK\n",
      "GO:0046883,GO:0048609\n",
      "\n"
     ]
    }
   ],
   "source": [
    "fi = 'GOA_Dataset_Train.txt'\n",
    "with open(fi,'r') as f:\n",
    "      contents = f.readlines()\n",
    "train_pro = []\n",
    "train_cls = []\n",
    "for l in contents[:500000]:\n",
    "    a,b = l.split(\"\\t\")\n",
    "    train_pro.append(a)\n",
    "    train_cls.append(b)\n",
    "print(len(train_pro))\n",
    "print(len(train_cls))\n",
    "print(train_pro[0])\n",
    "print(train_cls[0])"
   ]
  },
  {
   "cell_type": "code",
   "execution_count": 3,
   "metadata": {},
   "outputs": [
    {
     "name": "stdout",
     "output_type": "stream",
     "text": [
      "11245\n",
      "11245\n"
     ]
    }
   ],
   "source": [
    "fi = 'GOA_Dataset_Test.txt'\n",
    "with open(fi,'r') as f:\n",
    "      contents = f.readlines()\n",
    "test_pro = []\n",
    "test_cls = []\n",
    "for l in contents[:11250]:\n",
    "    a,b = l.split(\"\\t\")\n",
    "    test_pro.append(a)\n",
    "    test_cls.append(b)\n",
    "print(len(test_pro))\n",
    "print(len(test_cls))"
   ]
  },
  {
   "cell_type": "code",
   "execution_count": 4,
   "metadata": {},
   "outputs": [],
   "source": [
    "total_pro = train_pro + test_pro\n",
    "total_cls = train_cls + test_cls"
   ]
  },
  {
   "cell_type": "code",
   "execution_count": 5,
   "metadata": {},
   "outputs": [],
   "source": [
    "alphabet = 'ABCDEFGHIJKLMNOPQRSTUVWXYZ '\n",
    "# define a mapping of chars to integers\n",
    "char_to_int = dict((c, (i+1)) for i, c in enumerate(alphabet))\n",
    "int_to_char = dict(((i+1), c) for i, c in enumerate(alphabet))\n",
    "# integer encode input data\n",
    "lst = []\n",
    "ln = 1024\n",
    "for x in total_pro: \n",
    "    integer_encoded = [char_to_int[char] for char in x]\n",
    "    tm = len(integer_encoded)\n",
    "    if tm < 1024:\n",
    "        for i in range(tm,1024):\n",
    "            integer_encoded.append(0)     \n",
    "    lst.append(integer_encoded)"
   ]
  },
  {
   "cell_type": "code",
   "execution_count": 6,
   "metadata": {},
   "outputs": [],
   "source": [
    "\n",
    "lebel = []\n",
    "lebel_int = []\n",
    "total_c = []\n",
    "c = 1\n",
    "for x in total_cls:\n",
    "    if x not in lebel:\n",
    "        lebel.append(x)\n",
    "        lebel_int.append(c)\n",
    "        c = c+1\n",
    "    temp1 = lebel.index(x)\n",
    "    temp2 = lebel_int[temp1]\n",
    "    total_c.append(temp2)\n",
    "\n",
    "\n"
   ]
  },
  {
   "cell_type": "code",
   "execution_count": 7,
   "metadata": {},
   "outputs": [],
   "source": [
    "x_train = []\n",
    "y_train = []\n",
    "x_test = []\n",
    "y_test = []\n",
    "cn = 0;\n",
    "for x in total_c:\n",
    "    if x not in y_train:\n",
    "        x_train.append(lst[cn])\n",
    "        y_train.append(total_c[cn])\n",
    "    else:\n",
    "        x_test.append(lst[cn])\n",
    "        y_test.append(total_c[cn])\n",
    "    cn=cn+1\n"
   ]
  },
  {
   "cell_type": "code",
   "execution_count": 8,
   "metadata": {},
   "outputs": [],
   "source": [
    "tmp1 = x_train[-1]\n",
    "tmp2 = y_train[-1]\n",
    "for x in range(14000):\n",
    "    x_train.append(x_test.pop())\n",
    "    y_train.append(y_test.pop())"
   ]
  },
  {
   "cell_type": "code",
   "execution_count": 9,
   "metadata": {},
   "outputs": [],
   "source": [
    "x_test.append(tmp1)\n",
    "y_test.append(tmp2)"
   ]
  },
  {
   "cell_type": "code",
   "execution_count": 10,
   "metadata": {},
   "outputs": [],
   "source": [
    "x_train = np.array(x_train)\n",
    "x_test = np.array(x_test)\n",
    "y_train = np.array(y_train)\n",
    "y_test = np.array(y_test)"
   ]
  },
  {
   "cell_type": "code",
   "execution_count": 11,
   "metadata": {},
   "outputs": [],
   "source": [
    "from sklearn.ensemble import RandomForestClassifier\n",
    "from sklearn.linear_model import LogisticRegression\n",
    "from sklearn.tree import DecisionTreeClassifier\n",
    "from sklearn.neighbors import KNeighborsClassifier\n",
    "from sklearn.svm import SVC"
   ]
  },
  {
   "cell_type": "code",
   "execution_count": 12,
   "metadata": {},
   "outputs": [],
   "source": [
    "\n",
    "y_train= y_train.astype('int')\n",
    "y_test= y_test.astype('int')\n",
    "x_train= x_train.astype('int')\n",
    "x_test= x_test.astype('int')"
   ]
  },
  {
   "cell_type": "code",
   "execution_count": 31,
   "metadata": {},
   "outputs": [
    {
     "data": {
      "text/plain": [
       "KNeighborsClassifier(algorithm='auto', leaf_size=30, metric='minkowski',\n",
       "           metric_params=None, n_jobs=None, n_neighbors=50000, p=2,\n",
       "           weights='uniform')"
      ]
     },
     "execution_count": 31,
     "metadata": {},
     "output_type": "execute_result"
    }
   ],
   "source": [
    "knn = KNeighborsClassifier(n_neighbors=50000)\n",
    "knn.fit(x_train, y_train)\n"
   ]
  },
  {
   "cell_type": "code",
   "execution_count": null,
   "metadata": {},
   "outputs": [],
   "source": [
    "y_pred = knn.predict(x_test)"
   ]
  },
  {
   "cell_type": "code",
   "execution_count": 30,
   "metadata": {},
   "outputs": [
    {
     "name": "stdout",
     "output_type": "stream",
     "text": [
      "0.14658339456282146\n"
     ]
    }
   ],
   "source": [
    "from sklearn import metrics \n",
    "print(metrics.accuracy_score(y_test,y_pred))"
   ]
  },
  {
   "cell_type": "code",
   "execution_count": null,
   "metadata": {},
   "outputs": [],
   "source": []
  }
 ],
 "metadata": {
  "kernelspec": {
   "display_name": "Python 3",
   "language": "python",
   "name": "python3"
  },
  "language_info": {
   "codemirror_mode": {
    "name": "ipython",
    "version": 3
   },
   "file_extension": ".py",
   "mimetype": "text/x-python",
   "name": "python",
   "nbconvert_exporter": "python",
   "pygments_lexer": "ipython3",
   "version": "3.6.4"
  }
 },
 "nbformat": 4,
 "nbformat_minor": 2
}
